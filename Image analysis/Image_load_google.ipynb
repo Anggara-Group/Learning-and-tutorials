{
  "cells": [
    {
      "cell_type": "markdown",
      "metadata": {
        "id": "view-in-github",
        "colab_type": "text"
      },
      "source": [
        "<a href=\"https://colab.research.google.com/github/Anggara-Group/Learning-and-tutorials/blob/main/Image%20analysis/Image_load_google.ipynb\" target=\"_parent\"><img src=\"https://colab.research.google.com/assets/colab-badge.svg\" alt=\"Open In Colab\"/></a>"
      ]
    },
    {
      "cell_type": "code",
      "execution_count": 1,
      "id": "0c334651",
      "metadata": {
        "ExecuteTime": {
          "start_time": "2025-07-21T09:18:42.558888Z"
        },
        "jupyter": {
          "is_executing": true
        },
        "id": "0c334651",
        "outputId": "696dc1ca-78c1-4654-ace5-1d952a706410",
        "colab": {
          "base_uri": "https://localhost:8080/"
        }
      },
      "outputs": [
        {
          "output_type": "stream",
          "name": "stdout",
          "text": [
            "Cloning into 'Learning-and-tutorials'...\n",
            "remote: Enumerating objects: 1890, done.\u001b[K\n",
            "remote: Counting objects: 100% (1890/1890), done.\u001b[K\n",
            "remote: Compressing objects: 100% (1637/1637), done.\u001b[K\n",
            "remote: Total 1890 (delta 283), reused 1827 (delta 237), pack-reused 0 (from 0)\u001b[K\n",
            "Receiving objects: 100% (1890/1890), 23.04 MiB | 14.13 MiB/s, done.\n",
            "Resolving deltas: 100% (283/283), done.\n"
          ]
        }
      ],
      "source": [
        "!git clone https://github.com/Anggara-Group/Learning-and-tutorials.git"
      ]
    },
    {
      "cell_type": "code",
      "source": [
        "import os\n",
        "import pickle\n",
        "from pathlib import Path"
      ],
      "metadata": {
        "id": "FPB-Fqf-v0Vv"
      },
      "id": "FPB-Fqf-v0Vv",
      "execution_count": 2,
      "outputs": []
    },
    {
      "cell_type": "code",
      "source": [
        "os.chdir('/content/Learning-and-tutorials/Image analysis')"
      ],
      "metadata": {
        "id": "VBhmn0TSwl3T"
      },
      "id": "VBhmn0TSwl3T",
      "execution_count": 3,
      "outputs": []
    },
    {
      "cell_type": "code",
      "source": [
        "!pip install nanonispy2\n",
        "!pip install opencv-python"
      ],
      "metadata": {
        "colab": {
          "base_uri": "https://localhost:8080/"
        },
        "id": "KLba_QZ3whFO",
        "outputId": "20655f49-0a99-473b-a675-4f65c74c93f1"
      },
      "id": "KLba_QZ3whFO",
      "execution_count": 4,
      "outputs": [
        {
          "output_type": "stream",
          "name": "stdout",
          "text": [
            "Collecting nanonispy2\n",
            "  Downloading nanonispy2-1.2.0-py3-none-any.whl.metadata (3.4 kB)\n",
            "Requirement already satisfied: numpy in /usr/local/lib/python3.11/dist-packages (from nanonispy2) (2.0.2)\n",
            "Downloading nanonispy2-1.2.0-py3-none-any.whl (10 kB)\n",
            "Installing collected packages: nanonispy2\n",
            "Successfully installed nanonispy2-1.2.0\n",
            "Requirement already satisfied: opencv-python in /usr/local/lib/python3.11/dist-packages (4.12.0.88)\n",
            "Requirement already satisfied: numpy<2.3.0,>=2 in /usr/local/lib/python3.11/dist-packages (from opencv-python) (2.0.2)\n"
          ]
        }
      ]
    },
    {
      "cell_type": "code",
      "source": [
        "# Third-party imports\n",
        "import cv2\n",
        "import matplotlib.pyplot as plt\n",
        "import numpy as np\n",
        "import pandas as pd\n",
        "from scipy.stats import entropy\n",
        "from sklearn.cluster import KMeans\n",
        "from sklearn.decomposition import PCA\n",
        "from sklearn.manifold import TSNE\n",
        "from sklearn.preprocessing import StandardScaler\n",
        "\n",
        "# Image processing imports\n",
        "from skimage.io import imread\n",
        "from skimage.util import img_as_ubyte\n",
        "\n",
        "# Local module imports\n",
        "from src.automated_analysis import *\n",
        "from src.display_functions import *\n",
        "from src.filters import *\n",
        "from src.sxm_loader import *\n",
        "from src.utils import *\n",
        "from src.clustering import *"
      ],
      "metadata": {
        "id": "-yuwsV8FvhKN"
      },
      "id": "-yuwsV8FvhKN",
      "execution_count": 5,
      "outputs": []
    },
    {
      "cell_type": "code",
      "execution_count": 6,
      "id": "34e90578",
      "metadata": {
        "id": "34e90578"
      },
      "outputs": [],
      "source": [
        "paths = load_paths('paths.json')\n",
        "\n",
        "if paths:\n",
        "    general_path = paths['input_paths']['general_path']\n",
        "    saving_path = paths['output_paths']['saving_path']\n",
        "    info_path = paths['info_folder']['info_path']\n",
        "else:\n",
        "    print(\"Failed to load paths\")"
      ]
    },
    {
      "cell_type": "code",
      "execution_count": 7,
      "id": "8698e4eb",
      "metadata": {
        "id": "8698e4eb",
        "outputId": "04be4a4f-751c-4074-84d2-83f5eea41f42",
        "colab": {
          "base_uri": "https://localhost:8080/"
        }
      },
      "outputs": [
        {
          "output_type": "stream",
          "name": "stdout",
          "text": [
            " Created directory: Results/Test\n"
          ]
        }
      ],
      "source": [
        "data_folder = os.path.join(general_path, info_path)\n",
        "result_folder = os.path.join(saving_path, info_path)\n",
        "\n",
        "os.makedirs(result_folder, exist_ok=True)\n",
        "print(f\" Created directory: {result_folder}\")"
      ]
    },
    {
      "cell_type": "code",
      "execution_count": 8,
      "id": "f7646f23",
      "metadata": {
        "id": "f7646f23"
      },
      "outputs": [],
      "source": [
        "#Open all sxm files\n",
        "\n",
        "files = os.listdir(data_folder)\n",
        "sxm_data = {}\n",
        "\n",
        "for file in files:\n",
        "    if file.endswith(\".sxm\"):\n",
        "        file_path = os.path.join(data_folder, file)\n",
        "        filename_without_ext = os.path.splitext(file)[0]\n",
        "        sxm_data[filename_without_ext] = load_sxm_file(file_path)"
      ]
    },
    {
      "cell_type": "code",
      "execution_count": 9,
      "id": "022da154",
      "metadata": {
        "id": "022da154"
      },
      "outputs": [],
      "source": [
        "#Get  names and number of files\n",
        "names=list(sxm_data.keys())\n",
        "n_files = len(names)"
      ]
    },
    {
      "cell_type": "code",
      "execution_count": 10,
      "id": "dffc80b1",
      "metadata": {
        "id": "dffc80b1",
        "outputId": "de4cda11-eaaa-4fbf-ae86-53766dc7bc02",
        "colab": {
          "base_uri": "https://localhost:8080/"
        }
      },
      "outputs": [
        {
          "output_type": "execute_result",
          "data": {
            "text/plain": [
              "['240314_Cu1000391', '240314_Cu1000392', '240314_Cu1000390']"
            ]
          },
          "metadata": {},
          "execution_count": 10
        }
      ],
      "source": [
        "names"
      ]
    },
    {
      "cell_type": "code",
      "execution_count": 11,
      "id": "c12d789b",
      "metadata": {
        "id": "c12d789b",
        "outputId": "bcb29cc6-9d94-4175-942d-23202249c982",
        "colab": {
          "base_uri": "https://localhost:8080/",
          "height": 497
        }
      },
      "outputs": [
        {
          "output_type": "display_data",
          "data": {
            "text/plain": [
              "<Figure size 640x480 with 2 Axes>"
            ],
            "image/png": "[encoded data removed]"
          },
          "metadata": {}
        }
      ],
      "source": [
        "# Check one file to see what your data looks like\n",
        "# MODIFY THIS: Change the name to one of your files\n",
        "name='240314_Cu1000390'\n",
        "plt.imshow(sxm_data[name]['img'], cmap='viridis')\n",
        "plt.suptitle('SXM Images Grid', fontsize=16, y=1.02)\n",
        "plt.colorbar()\n",
        "plt.show()"
      ]
    },
    {
      "cell_type": "code",
      "execution_count": 12,
      "id": "81df7868",
      "metadata": {
        "id": "81df7868",
        "outputId": "48b1a530-386e-4663-8a4b-992b7506682e",
        "colab": {
          "base_uri": "https://localhost:8080/"
        }
      },
      "outputs": [
        {
          "output_type": "stream",
          "name": "stdout",
          "text": [
            "\n",
            "DataFrame created with shape: (3, 23)\n",
            "Features: ['bias', 'acq_time', 'max_intensity', 'min_intensity', 'intensity_range', 'mean_intensity', 'std_intensity', 'intensity_skewness', 'intensity_kurtosis', 'entropy', 'edge_density', 'num_contours', 'contrast', 'homogeneity', 'laplacian_variance', 'gradient_magnitude', 'freq_energy_high', 'freq_energy_low', 'freq_ratio_high_low', 'image_height', 'image_width', 'image_aspect_ratio', 'image_area']\n"
          ]
        }
      ],
      "source": [
        "# Extract numerical features from all images for clustering\n",
        "# This calculates things like contrast, entropy, edge density, etc.\n",
        "feature_frame = extract_features_to_dataframe(sxm_data, target_size=(128, 128), include_image_pixels=False)\n"
      ]
    },
    {
      "cell_type": "code",
      "execution_count": 13,
      "id": "ab286224",
      "metadata": {
        "id": "ab286224",
        "outputId": "a9d99fc8-ab79-4936-d0b3-2f0b5187caf9",
        "colab": {
          "base_uri": "https://localhost:8080/",
          "height": 224
        }
      },
      "outputs": [
        {
          "output_type": "execute_result",
          "data": {
            "text/plain": [
              "                  bias  acq_time  max_intensity  min_intensity  \\\n",
              "sample_name                                                      \n",
              "240314_Cu1000391  -0.1     185.9        2.16428      -0.845945   \n",
              "240314_Cu1000392  -0.1     185.9        2.16428      -0.845945   \n",
              "240314_Cu1000390  -0.1     185.9        2.16428      -0.845945   \n",
              "\n",
              "                  intensity_range  mean_intensity  std_intensity  \\\n",
              "sample_name                                                        \n",
              "240314_Cu1000391         3.010226        0.174212        0.53403   \n",
              "240314_Cu1000392         3.010226        0.174212        0.53403   \n",
              "240314_Cu1000390         3.010226        0.174212        0.53403   \n",
              "\n",
              "                  intensity_skewness  intensity_kurtosis   entropy  ...  \\\n",
              "sample_name                                                         ...   \n",
              "240314_Cu1000391            1.767348            2.433311  6.002782  ...   \n",
              "240314_Cu1000392            1.767348            2.433311  6.002782  ...   \n",
              "240314_Cu1000390            1.767348            2.433311  6.002782  ...   \n",
              "\n",
              "                  homogeneity  laplacian_variance  gradient_magnitude  \\\n",
              "sample_name                                                             \n",
              "240314_Cu1000391     0.999062            0.010821            0.151791   \n",
              "240314_Cu1000392     0.999062            0.010821            0.151791   \n",
              "240314_Cu1000390     0.999062            0.010821            0.151791   \n",
              "\n",
              "                  freq_energy_high  freq_energy_low  freq_ratio_high_low  \\\n",
              "sample_name                                                                \n",
              "240314_Cu1000391      1.907782e+06     1.690051e+06             1.128832   \n",
              "240314_Cu1000392      1.907782e+06     1.690051e+06             1.128832   \n",
              "240314_Cu1000390      1.907782e+06     1.690051e+06             1.128832   \n",
              "\n",
              "                  image_height  image_width  image_aspect_ratio  image_area  \n",
              "sample_name                                                                  \n",
              "240314_Cu1000391           512          512                 1.0      262144  \n",
              "240314_Cu1000392           512          512                 1.0      262144  \n",
              "240314_Cu1000390           512          512                 1.0      262144  \n",
              "\n",
              "[3 rows x 23 columns]"
            ],
            "text/html": [
              "\n",
              "  <div id=\"df-985c6c64-f9fe-4e03-a002-15903482d32f\" class=\"colab-df-container\">\n",
              "    <div>\n",
              "<style scoped>\n",
              "    .dataframe tbody tr th:only-of-type {\n",
              "        vertical-align: middle;\n",
              "    }\n",
              "\n",
              "    .dataframe tbody tr th {\n",
              "        vertical-align: top;\n",
              "    }\n",
              "\n",
              "    .dataframe thead th {\n",
              "        text-align: right;\n",
              "    }\n",
              "</style>\n",
              "<table border=\"1\" class=\"dataframe\">\n",
              "  <thead>\n",
              "    <tr style=\"text-align: right;\">\n",
              "      <th></th>\n",
              "      <th>bias</th>\n",
              "      <th>acq_time</th>\n",
              "      <th>max_intensity</th>\n",
              "      <th>min_intensity</th>\n",
              "      <th>intensity_range</th>\n",
              "      <th>mean_intensity</th>\n",
              "      <th>std_intensity</th>\n",
              "      <th>intensity_skewness</th>\n",
              "      <th>intensity_kurtosis</th>\n",
              "      <th>entropy</th>\n",
              "      <th>...</th>\n",
              "      <th>homogeneity</th>\n",
              "      <th>laplacian_variance</th>\n",
              "      <th>gradient_magnitude</th>\n",
              "      <th>freq_energy_high</th>\n",
              "      <th>freq_energy_low</th>\n",
              "      <th>freq_ratio_high_low</th>\n",
              "      <th>image_height</th>\n",
              "      <th>image_width</th>\n",
              "      <th>image_aspect_ratio</th>\n",
              "      <th>image_area</th>\n",
              "    </tr>\n",
              "    <tr>\n",
              "      <th>sample_name</th>\n",
              "      <th></th>\n",
              "      <th></th>\n",
              "      <th></th>\n",
              "      <th></th>\n",
              "      <th></th>\n",
              "      <th></th>\n",
              "      <th></th>\n",
              "      <th></th>\n",
              "      <th></th>\n",
              "      <th></th>\n",
              "      <th></th>\n",
              "      <th></th>\n",
              "      <th></th>\n",
              "      <th></th>\n",
              "      <th></th>\n",
              "      <th></th>\n",
              "      <th></th>\n",
              "      <th></th>\n",
              "      <th></th>\n",
              "      <th></th>\n",
              "      <th></th>\n",
              "    </tr>\n",
              "  </thead>\n",
              "  <tbody>\n",
              "    <tr>\n",
              "      <th>240314_Cu1000391</th>\n",
              "      <td>-0.1</td>\n",
              "      <td>185.9</td>\n",
              "      <td>2.16428</td>\n",
              "      <td>-0.845945</td>\n",
              "      <td>3.010226</td>\n",
              "      <td>0.174212</td>\n",
              "      <td>0.53403</td>\n",
              "      <td>1.767348</td>\n",
              "      <td>2.433311</td>\n",
              "      <td>6.002782</td>\n",
              "      <td>...</td>\n",
              "      <td>0.999062</td>\n",
              "      <td>0.010821</td>\n",
              "      <td>0.151791</td>\n",
              "      <td>1.907782e+06</td>\n",
              "      <td>1.690051e+06</td>\n",
              "      <td>1.128832</td>\n",
              "      <td>512</td>\n",
              "      <td>512</td>\n",
              "      <td>1.0</td>\n",
              "      <td>262144</td>\n",
              "    </tr>\n",
              "    <tr>\n",
              "      <th>240314_Cu1000392</th>\n",
              "      <td>-0.1</td>\n",
              "      <td>185.9</td>\n",
              "      <td>2.16428</td>\n",
              "      <td>-0.845945</td>\n",
              "      <td>3.010226</td>\n",
              "      <td>0.174212</td>\n",
              "      <td>0.53403</td>\n",
              "      <td>1.767348</td>\n",
              "      <td>2.433311</td>\n",
              "      <td>6.002782</td>\n",
              "      <td>...</td>\n",
              "      <td>0.999062</td>\n",
              "      <td>0.010821</td>\n",
              "      <td>0.151791</td>\n",
              "      <td>1.907782e+06</td>\n",
              "      <td>1.690051e+06</td>\n",
              "      <td>1.128832</td>\n",
              "      <td>512</td>\n",
              "      <td>512</td>\n",
              "      <td>1.0</td>\n",
              "      <td>262144</td>\n",
              "    </tr>\n",
              "    <tr>\n",
              "      <th>240314_Cu1000390</th>\n",
              "      <td>-0.1</td>\n",
              "      <td>185.9</td>\n",
              "      <td>2.16428</td>\n",
              "      <td>-0.845945</td>\n",
              "      <td>3.010226</td>\n",
              "      <td>0.174212</td>\n",
              "      <td>0.53403</td>\n",
              "      <td>1.767348</td>\n",
              "      <td>2.433311</td>\n",
              "      <td>6.002782</td>\n",
              "      <td>...</td>\n",
              "      <td>0.999062</td>\n",
              "      <td>0.010821</td>\n",
              "      <td>0.151791</td>\n",
              "      <td>1.907782e+06</td>\n",
              "      <td>1.690051e+06</td>\n",
              "      <td>1.128832</td>\n",
              "      <td>512</td>\n",
              "      <td>512</td>\n",
              "      <td>1.0</td>\n",
              "      <td>262144</td>\n",
              "    </tr>\n",
              "  </tbody>\n",
              "</table>\n",
              "<p>3 rows × 23 columns</p>\n",
              "</div>\n",
              "    <div class=\"colab-df-buttons\">\n",
              "\n",
              "  <div class=\"colab-df-container\">\n",
              "    <button class=\"colab-df-convert\" onclick=\"convertToInteractive('df-985c6c64-f9fe-4e03-a002-15903482d32f')\"\n",
              "            title=\"Convert this dataframe to an interactive table.\"\n",
              "            style=\"display:none;\">\n",
              "\n",
              "  <svg xmlns=\"http://www.w3.org/2000/svg\" height=\"24px\" viewBox=\"0 -960 960 960\">\n",
              "    <path d=\"M120-120v-720h720v720H120Zm60-500h600v-160H180v160Zm220 220h160v-160H400v160Zm0 220h160v-160H400v160ZM180-400h160v-160H180v160Zm440 0h160v-160H620v160ZM180-180h160v-160H180v160Zm440 0h160v-160H620v160Z\"/>\n",
              "  </svg>\n",
              "    </button>\n",
              "\n",
              "  <style>\n",
              "    .colab-df-container {\n",
              "      display:flex;\n",
              "      gap: 12px;\n",
              "    }\n",
              "\n",
              "    .colab-df-convert {\n",
              "      background-color: #E8F0FE;\n",
              "      border: none;\n",
              "      border-radius: 50%;\n",
              "      cursor: pointer;\n",
              "      display: none;\n",
              "      fill: #1967D2;\n",
              "      height: 32px;\n",
              "      padding: 0 0 0 0;\n",
              "      width: 32px;\n",
              "    }\n",
              "\n",
              "    .colab-df-convert:hover {\n",
              "      background-color: #E2EBFA;\n",
              "      box-shadow: 0px 1px 2px rgba(60, 64, 67, 0.3), 0px 1px 3px 1px rgba(60, 64, 67, 0.15);\n",
              "      fill: #174EA6;\n",
              "    }\n",
              "\n",
              "    .colab-df-buttons div {\n",
              "      margin-bottom: 4px;\n",
              "    }\n",
              "\n",
              "    [theme=dark] .colab-df-convert {\n",
              "      background-color: #3B4455;\n",
              "      fill: #D2E3FC;\n",
              "    }\n",
              "\n",
              "    [theme=dark] .colab-df-convert:hover {\n",
              "      background-color: #434B5C;\n",
              "      box-shadow: 0px 1px 3px 1px rgba(0, 0, 0, 0.15);\n",
              "      filter: drop-shadow(0px 1px 2px rgba(0, 0, 0, 0.3));\n",
              "      fill: #FFFFFF;\n",
              "    }\n",
              "  </style>\n",
              "\n",
              "    <script>\n",
              "      const buttonEl =\n",
              "        document.querySelector('#df-985c6c64-f9fe-4e03-a002-15903482d32f button.colab-df-convert');\n",
              "      buttonEl.style.display =\n",
              "        google.colab.kernel.accessAllowed ? 'block' : 'none';\n",
              "\n",
              "      async function convertToInteractive(key) {\n",
              "        const element = document.querySelector('#df-985c6c64-f9fe-4e03-a002-15903482d32f');\n",
              "        const dataTable =\n",
              "          await google.colab.kernel.invokeFunction('convertToInteractive',\n",
              "                                                    [key], {});\n",
              "        if (!dataTable) return;\n",
              "\n",
              "        const docLinkHtml = 'Like what you see? Visit the ' +\n",
              "          '<a target=\"_blank\" href=https://colab.research.google.com/notebooks/data_table.ipynb>data table notebook</a>'\n",
              "          + ' to learn more about interactive tables.';\n",
              "        element.innerHTML = '';\n",
              "        dataTable['output_type'] = 'display_data';\n",
              "        await google.colab.output.renderOutput(dataTable, element);\n",
              "        const docLink = document.createElement('div');\n",
              "        docLink.innerHTML = docLinkHtml;\n",
              "        element.appendChild(docLink);\n",
              "      }\n",
              "    </script>\n",
              "  </div>\n",
              "\n",
              "\n",
              "    <div id=\"df-382f35a7-3410-4334-a0df-d82633e2810b\">\n",
              "      <button class=\"colab-df-quickchart\" onclick=\"quickchart('df-382f35a7-3410-4334-a0df-d82633e2810b')\"\n",
              "                title=\"Suggest charts\"\n",
              "                style=\"display:none;\">\n",
              "\n",
              "<svg xmlns=\"http://www.w3.org/2000/svg\" height=\"24px\"viewBox=\"0 0 24 24\"\n",
              "     width=\"24px\">\n",
              "    <g>\n",
              "        <path d=\"M19 3H5c-1.1 0-2 .9-2 2v14c0 1.1.9 2 2 2h14c1.1 0 2-.9 2-2V5c0-1.1-.9-2-2-2zM9 17H7v-7h2v7zm4 0h-2V7h2v10zm4 0h-2v-4h2v4z\"/>\n",
              "    </g>\n",
              "</svg>\n",
              "      </button>\n",
              "\n",
              "<style>\n",
              "  .colab-df-quickchart {\n",
              "      --bg-color: #E8F0FE;\n",
              "      --fill-color: #1967D2;\n",
              "      --hover-bg-color: #E2EBFA;\n",
              "      --hover-fill-color: #174EA6;\n",
              "      --disabled-fill-color: #AAA;\n",
              "      --disabled-bg-color: #DDD;\n",
              "  }\n",
              "\n",
              "  [theme=dark] .colab-df-quickchart {\n",
              "      --bg-color: #3B4455;\n",
              "      --fill-color: #D2E3FC;\n",
              "      --hover-bg-color: #434B5C;\n",
              "      --hover-fill-color: #FFFFFF;\n",
              "      --disabled-bg-color: #3B4455;\n",
              "      --disabled-fill-color: #666;\n",
              "  }\n",
              "\n",
              "  .colab-df-quickchart {\n",
              "    background-color: var(--bg-color);\n",
              "    border: none;\n",
              "    border-radius: 50%;\n",
              "    cursor: pointer;\n",
              "    display: none;\n",
              "    fill: var(--fill-color);\n",
              "    height: 32px;\n",
              "    padding: 0;\n",
              "    width: 32px;\n",
              "  }\n",
              "\n",
              "  .colab-df-quickchart:hover {\n",
              "    background-color: var(--hover-bg-color);\n",
              "    box-shadow: 0 1px 2px rgba(60, 64, 67, 0.3), 0 1px 3px 1px rgba(60, 64, 67, 0.15);\n",
              "    fill: var(--button-hover-fill-color);\n",
              "  }\n",
              "\n",
              "  .colab-df-quickchart-complete:disabled,\n",
              "  .colab-df-quickchart-complete:disabled:hover {\n",
              "    background-color: var(--disabled-bg-color);\n",
              "    fill: var(--disabled-fill-color);\n",
              "    box-shadow: none;\n",
              "  }\n",
              "\n",
              "  .colab-df-spinner {\n",
              "    border: 2px solid var(--fill-color);\n",
              "    border-color: transparent;\n",
              "    border-bottom-color: var(--fill-color);\n",
              "    animation:\n",
              "      spin 1s steps(1) infinite;\n",
              "  }\n",
              "\n",
              "  @keyframes spin {\n",
              "    0% {\n",
              "      border-color: transparent;\n",
              "      border-bottom-color: var(--fill-color);\n",
              "      border-left-color: var(--fill-color);\n",
              "    }\n",
              "    20% {\n",
              "      border-color: transparent;\n",
              "      border-left-color: var(--fill-color);\n",
              "      border-top-color: var(--fill-color);\n",
              "    }\n",
              "    30% {\n",
              "      border-color: transparent;\n",
              "      border-left-color: var(--fill-color);\n",
              "      border-top-color: var(--fill-color);\n",
              "      border-right-color: var(--fill-color);\n",
              "    }\n",
              "    40% {\n",
              "      border-color: transparent;\n",
              "      border-right-color: var(--fill-color);\n",
              "      border-top-color: var(--fill-color);\n",
              "    }\n",
              "    60% {\n",
              "      border-color: transparent;\n",
              "      border-right-color: var(--fill-color);\n",
              "    }\n",
              "    80% {\n",
              "      border-color: transparent;\n",
              "      border-right-color: var(--fill-color);\n",
              "      border-bottom-color: var(--fill-color);\n",
              "    }\n",
              "    90% {\n",
              "      border-color: transparent;\n",
              "      border-bottom-color: var(--fill-color);\n",
              "    }\n",
              "  }\n",
              "</style>\n",
              "\n",
              "      <script>\n",
              "        async function quickchart(key) {\n",
              "          const quickchartButtonEl =\n",
              "            document.querySelector('#' + key + ' button');\n",
              "          quickchartButtonEl.disabled = true;  // To prevent multiple clicks.\n",
              "          quickchartButtonEl.classList.add('colab-df-spinner');\n",
              "          try {\n",
              "            const charts = await google.colab.kernel.invokeFunction(\n",
              "                'suggestCharts', [key], {});\n",
              "          } catch (error) {\n",
              "            console.error('Error during call to suggestCharts:', error);\n",
              "          }\n",
              "          quickchartButtonEl.classList.remove('colab-df-spinner');\n",
              "          quickchartButtonEl.classList.add('colab-df-quickchart-complete');\n",
              "        }\n",
              "        (() => {\n",
              "          let quickchartButtonEl =\n",
              "            document.querySelector('#df-382f35a7-3410-4334-a0df-d82633e2810b button');\n",
              "          quickchartButtonEl.style.display =\n",
              "            google.colab.kernel.accessAllowed ? 'block' : 'none';\n",
              "        })();\n",
              "      </script>\n",
              "    </div>\n",
              "\n",
              "  <div id=\"id_aa61459e-07a1-4052-9b97-aba3c37a06eb\">\n",
              "    <style>\n",
              "      .colab-df-generate {\n",
              "        background-color: #E8F0FE;\n",
              "        border: none;\n",
              "        border-radius: 50%;\n",
              "        cursor: pointer;\n",
              "        display: none;\n",
              "        fill: #1967D2;\n",
              "        height: 32px;\n",
              "        padding: 0 0 0 0;\n",
              "        width: 32px;\n",
              "      }\n",
              "\n",
              "      .colab-df-generate:hover {\n",
              "        background-color: #E2EBFA;\n",
              "        box-shadow: 0px 1px 2px rgba(60, 64, 67, 0.3), 0px 1px 3px 1px rgba(60, 64, 67, 0.15);\n",
              "        fill: #174EA6;\n",
              "      }\n",
              "\n",
              "      [theme=dark] .colab-df-generate {\n",
              "        background-color: #3B4455;\n",
              "        fill: #D2E3FC;\n",
              "      }\n",
              "\n",
              "      [theme=dark] .colab-df-generate:hover {\n",
              "        background-color: #434B5C;\n",
              "        box-shadow: 0px 1px 3px 1px rgba(0, 0, 0, 0.15);\n",
              "        filter: drop-shadow(0px 1px 2px rgba(0, 0, 0, 0.3));\n",
              "        fill: #FFFFFF;\n",
              "      }\n",
              "    </style>\n",
              "    <button class=\"colab-df-generate\" onclick=\"generateWithVariable('feature_frame')\"\n",
              "            title=\"Generate code using this dataframe.\"\n",
              "            style=\"display:none;\">\n",
              "\n",
              "  <svg xmlns=\"http://www.w3.org/2000/svg\" height=\"24px\"viewBox=\"0 0 24 24\"\n",
              "       width=\"24px\">\n",
              "    <path d=\"M7,19H8.4L18.45,9,17,7.55,7,17.6ZM5,21V16.75L18.45,3.32a2,2,0,0,1,2.83,0l1.4,1.43a1.91,1.91,0,0,1,.58,1.4,1.91,1.91,0,0,1-.58,1.4L9.25,21ZM18.45,9,17,7.55Zm-12,3A5.31,5.31,0,0,0,4.9,8.1,5.31,5.31,0,0,0,1,6.5,5.31,5.31,0,0,0,4.9,4.9,5.31,5.31,0,0,0,6.5,1,5.31,5.31,0,0,0,8.1,4.9,5.31,5.31,0,0,0,12,6.5,5.46,5.46,0,0,0,6.5,12Z\"/>\n",
              "  </svg>\n",
              "    </button>\n",
              "    <script>\n",
              "      (() => {\n",
              "      const buttonEl =\n",
              "        document.querySelector('#id_aa61459e-07a1-4052-9b97-aba3c37a06eb button.colab-df-generate');\n",
              "      buttonEl.style.display =\n",
              "        google.colab.kernel.accessAllowed ? 'block' : 'none';\n",
              "\n",
              "      buttonEl.onclick = () => {\n",
              "        google.colab.notebook.generateWithVariable('feature_frame');\n",
              "      }\n",
              "      })();\n",
              "    </script>\n",
              "  </div>\n",
              "\n",
              "    </div>\n",
              "  </div>\n"
            ],
            "application/vnd.google.colaboratory.intrinsic+json": {
              "type": "dataframe",
              "variable_name": "feature_frame"
            }
          },
          "metadata": {},
          "execution_count": 13
        }
      ],
      "source": [
        "feature_frame"
      ]
    },
    {
      "cell_type": "code",
      "execution_count": 14,
      "id": "f29b9345",
      "metadata": {
        "id": "f29b9345",
        "outputId": "1578ee8f-f133-4089-d284-8d03683658ee",
        "colab": {
          "base_uri": "https://localhost:8080/"
        }
      },
      "outputs": [
        {
          "output_type": "stream",
          "name": "stdout",
          "text": [
            "Using features: ['feature_1', 'feature_2', 'feature_3']\n",
            "After variance filtering (0.01): 3 features\n",
            "Testing 2 to 4 clusters\n",
            "Failed to fit 3 clusters: Number of labels is 3. Valid values are 2 to n_samples - 1 (inclusive)\n",
            "Failed to fit 4 clusters: Expected n_samples >= n_components but got n_components = 4, n_samples = 3\n",
            "Final silhouette score: 0.365\n"
          ]
        }
      ],
      "source": [
        "# Make fake different \"images\" for testing\n",
        "n_samples = len(feature_frame)\n",
        "fake_features = pd.DataFrame({\n",
        "    'feature_1': np.random.normal(0, 1, n_samples),\n",
        "    'feature_2': np.random.normal(2, 1.5, n_samples),\n",
        "    'feature_3': np.random.exponential(1, n_samples)\n",
        "}, index=feature_frame.index)\n",
        "\n",
        "results = cluster_with_gmm(fake_features, max_clusters=4)"
      ]
    },
    {
      "cell_type": "code",
      "execution_count": 15,
      "id": "ebf60250",
      "metadata": {
        "id": "ebf60250"
      },
      "outputs": [],
      "source": [
        "#Real case\n",
        "#  results = cluster_with_gmm(\n",
        "#     feature_frame,\n",
        "#     variance_threshold=0.01,\n",
        "#     use_pca=True,\n",
        "#     max_clusters=5)"
      ]
    },
    {
      "cell_type": "code",
      "execution_count": 16,
      "id": "15604bb3",
      "metadata": {
        "id": "15604bb3"
      },
      "outputs": [],
      "source": [
        "# Group similar images together\n",
        "clusters= results['cluster_labels'].tolist()\n",
        "n_clusters = len(set(clusters)) - (1 if -1 in clusters else 0)"
      ]
    },
    {
      "cell_type": "code",
      "execution_count": 17,
      "id": "43d089d8",
      "metadata": {
        "id": "43d089d8"
      },
      "outputs": [],
      "source": [
        "# Create a dictionary mapping cluster IDs to image names\n",
        "cluster_dict = {}\n",
        "for name, cluster in zip(list(results['results_df'].index), results['cluster_labels']):\n",
        "    if cluster not in cluster_dict:\n",
        "        cluster_dict[cluster] = []\n",
        "    cluster_dict[cluster].append(name)\n"
      ]
    },
    {
      "cell_type": "code",
      "execution_count": 18,
      "id": "b420d98e",
      "metadata": {
        "id": "b420d98e",
        "outputId": "93ab79c9-66b0-4019-8ccd-23296d1e26bb",
        "colab": {
          "base_uri": "https://localhost:8080/"
        }
      },
      "outputs": [
        {
          "output_type": "stream",
          "name": "stdout",
          "text": [
            "Created: Results/Test/cluster_0\n",
            "Saved cluster 0 plot to: Results/Test/cluster_0/classified_unprocessed_0.png\n",
            "Created: Results/Test/cluster_1\n",
            "Saved cluster 1 plot to: Results/Test/cluster_1/classified_unprocessed_1.png\n"
          ]
        }
      ],
      "source": [
        "# Create folders and save grid plots of original (unprocessed) images\n",
        "for i in range(n_clusters):\n",
        "    cluster_folder = f'cluster_{i}'\n",
        "    cluster_path = os.path.join(result_folder, cluster_folder)\n",
        "    os.makedirs(cluster_path, exist_ok=True)\n",
        "    print(f'Created: {cluster_path}')\n",
        "\n",
        "    save_plots_dicts(\n",
        "        sxm_data,\n",
        "        cluster_dict,\n",
        "        clus=i,\n",
        "        save_path=result_folder,\n",
        "        image_key='img',\n",
        "        name_file='classified_unprocessed', # Your base path where cluster folders are\n",
        "        n_cols=10\n",
        "    )"
      ]
    },
    {
      "cell_type": "code",
      "execution_count": 19,
      "id": "7993f0b0",
      "metadata": {
        "id": "7993f0b0",
        "outputId": "6a41aaa2-993d-4bd9-a673-f0f3e2d817dd",
        "colab": {
          "base_uri": "https://localhost:8080/"
        }
      },
      "outputs": [
        {
          "output_type": "stream",
          "name": "stdout",
          "text": [
            "Reasoning:\n",
            "   FFT Gaussian: Noise reduction/smoothing\n",
            "Reasoning:\n",
            "   FFT Gaussian: Noise reduction/smoothing\n"
          ]
        }
      ],
      "source": [
        "# Generate filter configurations for all clusters\n",
        "cluster_configs, df, cluster_stats = run_cluster_config_analysis(feature_frame,clusters)"
      ]
    },
    {
      "cell_type": "code",
      "execution_count": 20,
      "id": "cb424284",
      "metadata": {
        "id": "cb424284"
      },
      "outputs": [],
      "source": [
        "# Initialize storage for all processed clusters\n",
        "cluster_processed = {}\n",
        "\n",
        "# Process each cluster\n",
        "for cluster_id in range(n_clusters):\n",
        "    cluster_config = cluster_configs[f'cluster_{cluster_id}_filters']\n",
        "    cluster_images = cluster_dict[cluster_id]\n",
        "    for name in cluster_images:\n",
        "        image = sxm_data[name]['img']\n",
        "        zmask = sxm_data[name]['Zmask']\n",
        "\n",
        "        try:\n",
        "            # Apply SXM processing function with cluster-specific config\n",
        "            result = process_sxm_image(image, zmask, cluster_config)\n",
        "            processed_image = result['processed_image']\n",
        "            try:\n",
        "                image_entropy = calculate_entropy(processed_image)\n",
        "            except:\n",
        "                image_entropy = sxm_data[name].get('entropy', 0)\n",
        "\n",
        "            # Store processed data\n",
        "            cluster_processed[name] = {\n",
        "                'original_img': image,\n",
        "                'processed_img': processed_image,\n",
        "                'Zmask': zmask,\n",
        "                'Pixelsize': sxm_data[name]['Pixelsize'],\n",
        "                'entropy': image_entropy,\n",
        "                'header': sxm_data[name]['header'],\n",
        "                'filters_applied': cluster_config.copy(),\n",
        "                'processing_result': result  # Store full result if needed\n",
        "            }\n",
        "\n",
        "        except Exception as e:\n",
        "            print(f\"Error processing {name}: {e}\")\n",
        "\n",
        "            # Store original data if processing fails\n",
        "            cluster_processed[name] = {\n",
        "                'original_img': image,\n",
        "                'processed_img': image,  # Use original as fallback\n",
        "                'Zmask': zmask,\n",
        "                'Pixelsize': sxm_data[name]['Pixelsize'],\n",
        "                'entropy': sxm_data[name].get('entropy', 0),\n",
        "                'bias': sxm_data[name]['bias'],\n",
        "                'acq_time': sxm_data[name]['acq_time'],\n",
        "                'header': sxm_data[name]['header'],\n",
        "                'filters_applied': {},\n",
        "                'processing_result': None,\n",
        "                'error': str(e)\n",
        "            }\n",
        "\n",
        "    # Store cluster results\n",
        "    all_processed_clusters=cluster_processed"
      ]
    },
    {
      "cell_type": "code",
      "execution_count": 21,
      "id": "0c6376f5",
      "metadata": {
        "id": "0c6376f5",
        "outputId": "2fb8c788-29d6-47ae-be8d-0286d1080c71",
        "colab": {
          "base_uri": "https://localhost:8080/"
        }
      },
      "outputs": [
        {
          "output_type": "stream",
          "name": "stdout",
          "text": [
            "Low sensitivity: Using 67.9 instead of Otsu 97.0\n",
            "Low sensitivity: Using 67.9 instead of Otsu 97.0\n",
            "Low sensitivity: Using 67.9 instead of Otsu 97.0\n"
          ]
        }
      ],
      "source": [
        "# Remove background from processed images using Otsu thresholding\n",
        "otsus={}\n",
        "for cluster_id in range(n_clusters):\n",
        "    cluster_images = cluster_dict[cluster_id]\n",
        "    for name in cluster_images:\n",
        "        img = all_processed_clusters[name]['processed_img']\n",
        "        otsus[name]=results = remove_background_outside_edges(img,gauss=False, sensitivity='low')"
      ]
    },
    {
      "cell_type": "code",
      "execution_count": 22,
      "id": "3c46be19",
      "metadata": {
        "id": "3c46be19"
      },
      "outputs": [],
      "source": [
        "# Update our main dictionary with background removal results\n",
        "deep_update(all_processed_clusters, otsus)"
      ]
    },
    {
      "cell_type": "code",
      "execution_count": 23,
      "id": "c92d8d59",
      "metadata": {
        "id": "c92d8d59"
      },
      "outputs": [],
      "source": [
        "# Calculate distance transforms for shape analysis\n",
        "\n",
        "for cluster_id in range(n_clusters):\n",
        "    cluster_images = cluster_dict[cluster_id]\n",
        "    for name in cluster_images:\n",
        "        img = all_processed_clusters[name]['result_black_bg']\n",
        "        mask = all_processed_clusters[name]['mask']\n",
        "        distance_array = get_distance_transform(img, mask, name)\n",
        "\n",
        "        # Store the result\n",
        "        all_processed_clusters[name].update({\n",
        "            'distance_transform': distance_array,\n",
        "            'max_distance': distance_array.max(),\n",
        "            'mean_distance': distance_array[distance_array > 0].mean() if np.sum(distance_array > 0) > 0 else 0,\n",
        "            'image_shape': img.shape,\n",
        "            'non_zero_pixels': np.sum(distance_array > 0)\n",
        "        })"
      ]
    },
    {
      "cell_type": "code",
      "execution_count": 24,
      "id": "548b5e38",
      "metadata": {
        "id": "548b5e38",
        "outputId": "899e97a1-8303-4625-ee76-de5fb935c014",
        "colab": {
          "base_uri": "https://localhost:8080/"
        }
      },
      "outputs": [
        {
          "output_type": "stream",
          "name": "stdout",
          "text": [
            "   Ridge method: 1402 backbone points\n",
            "   Ridge method: 1402 backbone points\n",
            "   Ridge method: 1402 backbone points\n"
          ]
        }
      ],
      "source": [
        "# Extract molecular backbones and calculate measurements\n",
        "for cluster_id in range(n_clusters):\n",
        "    cluster_images = cluster_dict[cluster_id]\n",
        "    for name in cluster_images:\n",
        "        img = all_processed_clusters[name]['original_img']\n",
        "        pixelsize = all_processed_clusters[name]['Pixelsize']  # [x_nm_per_pixel, y_nm_per_pixel]\n",
        "        distance_transform = all_processed_clusters[name]['distance_transform']\n",
        "\n",
        "        backbone_ridge = extract_backbone_from_distance_transform(img, distance_transform, name, method='ridge')\n",
        "        measurements = analyze_backbone_measurements(backbone_ridge['backbone_points'], name, pixelsize)\n",
        "\n",
        "        all_processed_clusters[name]['backbone_ridge'] = backbone_ridge\n",
        "        all_processed_clusters[name]['measurements'] = measurements"
      ]
    },
    {
      "cell_type": "code",
      "execution_count": 25,
      "id": "9f92b43f",
      "metadata": {
        "id": "9f92b43f",
        "outputId": "387f6860-8466-4a47-a11d-ab0739e9c9dc",
        "colab": {
          "base_uri": "https://localhost:8080/"
        }
      },
      "outputs": [
        {
          "output_type": "stream",
          "name": "stdout",
          "text": [
            "Created: Results/Test/cluster_0\n",
            "Created: Results/Test/cluster_1\n",
            "Saved cluster 0 plot to: Results/Test/cluster_0/classified_processed_0.png\n",
            "Saved cluster 1 plot to: Results/Test/cluster_1/classified_processed_1.png\n",
            "Saved cluster 0 plot to: Results/Test/cluster_0/otsu_background_0.png\n",
            "Saved cluster 1 plot to: Results/Test/cluster_1/otsu_background_1.png\n",
            "Saved cluster 0 plot to: Results/Test/cluster_0/distance_transform_0.png\n",
            "Saved cluster 1 plot to: Results/Test/cluster_1/distance_transform_1.png\n"
          ]
        }
      ],
      "source": [
        "# Save grid plots of different processing stages\n",
        "for i in range(n_clusters):\n",
        "    cluster_path = os.path.join(result_folder, f'cluster_{i}')\n",
        "    os.makedirs(cluster_path, exist_ok=True)\n",
        "    print(f'Created: {cluster_path}')\n",
        "\n",
        "image_types = [\n",
        "    ('processed_img', 'classified_processed'),\n",
        "    ('result_black_bg', 'otsu_background'),\n",
        "    ('distance_transform', 'distance_transform')\n",
        "]\n",
        "\n",
        "for image_key, name_file in image_types:\n",
        "    for cluster_id in range(n_clusters):\n",
        "        save_plots_dicts(\n",
        "            all_processed_clusters,\n",
        "            cluster_dict,\n",
        "            clus=cluster_id,\n",
        "            save_path=result_folder,\n",
        "            image_key=image_key,\n",
        "            name_file=name_file,\n",
        "            n_cols=10\n",
        "        )"
      ]
    },
    {
      "cell_type": "code",
      "execution_count": 26,
      "id": "9eef9f92",
      "metadata": {
        "id": "9eef9f92",
        "outputId": "e623d6f4-a634-40c9-f3ea-25c5356554a2",
        "colab": {
          "base_uri": "https://localhost:8080/"
        }
      },
      "outputs": [
        {
          "output_type": "stream",
          "name": "stdout",
          "text": [
            "Created: Results/Test/cluster_0\n",
            "Saved cluster 0 plot to: Results/Test/cluster_0/backbones_0.png\n",
            "Created: Results/Test/cluster_1\n",
            "Saved cluster 1 plot to: Results/Test/cluster_1/backbones_1.png\n"
          ]
        }
      ],
      "source": [
        "# Save backbone analysis results with measurements\n",
        "for i in range(n_clusters):\n",
        "    cluster_folder = f'cluster_{i}'\n",
        "    cluster_path = os.path.join(result_folder, cluster_folder)\n",
        "    os.makedirs(cluster_path, exist_ok=True)\n",
        "    print(f'Created: {cluster_path}')\n",
        "\n",
        "    save_ridge_plots_dicts(\n",
        "        all_processed_clusters,\n",
        "        cluster_dict,\n",
        "        clus=i,\n",
        "        save_path=result_folder,\n",
        "        name_file='backbones'\n",
        "    )"
      ]
    },
    {
      "cell_type": "code",
      "execution_count": 27,
      "id": "6205741e",
      "metadata": {
        "id": "6205741e"
      },
      "outputs": [],
      "source": [
        "# Save processed data and cluster information for future use and process\n",
        "with open(os.path.join(result_folder, 'processed_data.pkl'), 'wb') as f:\n",
        "    pickle.dump(all_processed_clusters, f)\n",
        "with open(os.path.join(result_folder, 'cluster_dict.pkl'), 'wb') as f:\n",
        "    pickle.dump(cluster_dict, f)"
      ]
    }
  ],
  "metadata": {
    "kernelspec": {
      "display_name": ".venv (3.11.9)",
      "language": "python",
      "name": "python3"
    },
    "language_info": {
      "codemirror_mode": {
        "name": "ipython",
        "version": 3
      },
      "file_extension": ".py",
      "mimetype": "text/x-python",
      "name": "python",
      "nbconvert_exporter": "python",
      "pygments_lexer": "ipython3",
      "version": "3.11.9"
    },
    "colab": {
      "provenance": [],
      "include_colab_link": true
    }
  },
  "nbformat": 4,
  "nbformat_minor": 5
}